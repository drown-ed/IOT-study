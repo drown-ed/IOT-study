{
 "cells": [
  {
   "attachments": {},
   "cell_type": "markdown",
   "metadata": {},
   "source": [
    "1. 반지름 값을 입력받아 원의 넓이를 구하여 출력하는 프로그램을 구현하세요. π는 3.141592 입니다."
   ]
  },
  {
   "cell_type": "code",
   "execution_count": 25,
   "metadata": {},
   "outputs": [
    {
     "name": "stdout",
     "output_type": "stream",
     "text": [
      "반지름 입력하세요.\n",
      "입력한 반지름은 5.0이며 원의 넓이는 78.53981633974483입니다.\n"
     ]
    }
   ],
   "source": [
    "import math\n",
    "\n",
    "# function\n",
    "def circle(radius):\n",
    "    return (radius ** 2) * math.pi\n",
    "\n",
    "# input\n",
    "print('반지름 입력하세요.')\n",
    "radius = float(input())\n",
    "\n",
    "# output\n",
    "print(f\"입력한 반지름은 {radius}이며 원의 넓이는 {circle(radius)}입니다.\")"
   ]
  },
  {
   "attachments": {},
   "cell_type": "markdown",
   "metadata": {},
   "source": [
    "2. 태양계는 수성, 금성, 지구, 화성, 목성, 토성, 천왕성, 해왕성으로 구성됩니다. 영어 이름은 Mercury, Venus, Earth, Mars, Jupiter,  Saturn, Uranus, Neptune 입니다.  행성의 영어 이름을 입력하면 한글 행성 이름이 출력 되는 프로그램을 구현하세요."
   ]
  },
  {
   "cell_type": "code",
   "execution_count": 1,
   "metadata": {},
   "outputs": [
    {
     "name": "stdout",
     "output_type": "stream",
     "text": [
      "행성을 입력하세요.\n",
      "해당 이름은 존재하지 않습니다. 다시 입력해주세요.\n",
      "행성을 입력하세요.\n",
      "해당 이름은 존재하지 않습니다. 다시 입력해주세요.\n",
      "행성을 입력하세요.\n",
      "입력한 행성 이름은 Mercury이며 한글 이름은 수성입니다.\n"
     ]
    }
   ],
   "source": [
    "# function\n",
    "def trans_planet(name):\n",
    "    name_list = {\n",
    "        'Mercury' : '수성',\n",
    "        'Venus' : '금성',\n",
    "        'Earth' : '지구',\n",
    "        'Mars' : '화성',\n",
    "        'Jupiter' : '목성',\n",
    "        'Saturn' : '토성',\n",
    "        'Uranus' : '천왕성',\n",
    "        'Neptune' : '해왕성'\n",
    "    }\n",
    "\n",
    "    if name in name_list:\n",
    "        return name_list[name]\n",
    "    else: return None\n",
    "\n",
    "while(True):\n",
    "    # input\n",
    "    print('행성을 입력하세요.')\n",
    "    planet = input()\n",
    "    result = trans_planet(planet)\n",
    "\n",
    "    # output\n",
    "    if result == None:\n",
    "        print('해당 이름은 존재하지 않습니다. 다시 입력해주세요.')\n",
    "    else:\n",
    "        print(f'입력한 행성 이름은 {planet}이며 한글 이름은 {result}입니다.')\n",
    "        break"
   ]
  },
  {
   "attachments": {},
   "cell_type": "markdown",
   "metadata": {},
   "source": [
    "3. 입력한 영어 문자열의 단어의 수를 출력하고 입력된 단어를 짝수로 대문자로 변경하여 출력하는 프로그램을 구현하세요.\n",
    "\n",
    "    I'm going to leave the door open = 7  \n",
    "    I'm GOING to LEAVE the DOOR open"
   ]
  },
  {
   "cell_type": "code",
   "execution_count": 22,
   "metadata": {},
   "outputs": [
    {
     "name": "stdout",
     "output_type": "stream",
     "text": [
      "문장을 입력하세요.\n",
      "입력한 문장은 i have a dream이며 단어는 총 4개 입니다. 변환한 문자열은 i HAVE a DREAM입니다.\n"
     ]
    }
   ],
   "source": [
    "def sentence_mod(sentence, sen_num):\n",
    "    \n",
    "    sen_mod = ''\n",
    "    for i in range(0, len(sen_num)):\n",
    "        if (i+1) % 2 == 0:\n",
    "            sen_mod += sen_num[i].upper()\n",
    "        else:\n",
    "            sen_mod += sen_num[i]\n",
    "        \n",
    "        if i != len(sen_num) - 1:\n",
    "            sen_mod += ' '\n",
    "\n",
    "    return sen_mod\n",
    "\n",
    "\n",
    "print('문장을 입력하세요.')\n",
    "\n",
    "sentence = input()\n",
    "sen_num = sentence.split()\n",
    "\n",
    "print(f'입력한 문장은 {sentence}이며 단어는 총 {len(sen_num)}개 입니다. 변환한 문자열은 {sentence_mod(sentence, sen_num)}입니다.')"
   ]
  },
  {
   "attachments": {},
   "cell_type": "markdown",
   "metadata": {},
   "source": [
    "4. 입력한 수를 거꾸로 출력하는 프로그램을 구현하세요. 예) 1 3 5 7 9 --> 9 7 5 3 1"
   ]
  },
  {
   "cell_type": "code",
   "execution_count": 24,
   "metadata": {},
   "outputs": [
    {
     "name": "stdout",
     "output_type": "stream",
     "text": [
      "숫자를 입력하세요.\n",
      "입력한 문자열은 1 3 5 7 9이며 결과는 9 7 5 3 1입니다.\n"
     ]
    }
   ],
   "source": [
    "# function\n",
    "def rev(input_num):\n",
    "    num_list = input_num.split()\n",
    "    num_list.reverse()\n",
    "    sen = ''\n",
    "    for i in range(0, len(num_list)):\n",
    "        sen += str(num_list[i])\n",
    "        if i != len(num_list) - 1:\n",
    "            sen += ' '\n",
    "    return sen\n",
    "\n",
    "# input\n",
    "print('숫자를 입력하세요.')\n",
    "input_num = input()\n",
    "\n",
    "# output\n",
    "print(f'입력한 문자열은 {input_num}이며 결과는 {rev(input_num)}입니다.')"
   ]
  },
  {
   "attachments": {},
   "cell_type": "markdown",
   "metadata": {},
   "source": [
    "5. 구구단을 수행할 단번호를 입력하면 그 단의 9까지의 결과를 나열하는 프로그램을 입력하세요. 예) 3 --> 3 6 9 12 15 18 21 24 27"
   ]
  },
  {
   "cell_type": "code",
   "execution_count": 8,
   "metadata": {},
   "outputs": [
    {
     "name": "stdout",
     "output_type": "stream",
     "text": [
      "실행할 구구단 번호를 입력하세요.\n",
      "입력한 숫자는 3이며 결과는 3 6 9 12 15 18 21 24 27입니다.\n"
     ]
    }
   ],
   "source": [
    "# function\n",
    "def cal_gugudan(num):\n",
    "    result = ''\n",
    "    for i in range(1, 10):\n",
    "        result += str(gugudan * i)\n",
    "        if i != 9:\n",
    "            result += ' '\n",
    "    return result\n",
    "    \n",
    "# input\n",
    "print('실행할 구구단 번호를 입력하세요.')\n",
    "gugudan = int(input())\n",
    "\n",
    "# output\n",
    "print(f'입력한 숫자는 {gugudan}이며 결과는 {cal_gugudan(gugudan)}입니다.')"
   ]
  }
 ],
 "metadata": {
  "kernelspec": {
   "display_name": "Python 3",
   "language": "python",
   "name": "python3"
  },
  "language_info": {
   "codemirror_mode": {
    "name": "ipython",
    "version": 3
   },
   "file_extension": ".py",
   "mimetype": "text/x-python",
   "name": "python",
   "nbconvert_exporter": "python",
   "pygments_lexer": "ipython3",
   "version": "3.11.1"
  },
  "orig_nbformat": 4,
  "vscode": {
   "interpreter": {
    "hash": "a3d8f53f1429d27b792a3789224562ddd32c1395c9a9cfbb17b3c19c3b9a493d"
   }
  }
 },
 "nbformat": 4,
 "nbformat_minor": 2
}
