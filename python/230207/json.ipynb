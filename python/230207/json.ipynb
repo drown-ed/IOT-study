{
 "cells": [
  {
   "cell_type": "code",
   "execution_count": 4,
   "metadata": {},
   "outputs": [
    {
     "name": "stdout",
     "output_type": "stream",
     "text": [
      "{\"ionic\": {\"price\": 2000000, \"year\": \"2022\"}, \"genesis\": {\"price\": 8000000, \"year\": \"2021\"}, \"BMW\": {\"price\": 15000000, \"year\": \"2019\"}}\n"
     ]
    }
   ],
   "source": [
    "import json\n",
    "\n",
    "# json file read/write\n",
    "file = open('./test.json', 'r', encoding = 'utf-8')\n",
    "\n",
    "jsondata = json.load(file)\n",
    "print(json.dumps(jsondata))\n",
    "\n",
    "file.close()"
   ]
  },
  {
   "cell_type": "code",
   "execution_count": 6,
   "metadata": {},
   "outputs": [
    {
     "name": "stdout",
     "output_type": "stream",
     "text": [
      "{\n",
      "\t\"ionic\": {\n",
      "\t\t\"price\": 2000000,\n",
      "\t\t\"year\": \"2022\"\n",
      "\t},\n",
      "\t\"genesis\": {\n",
      "\t\t\"price\": 8000000,\n",
      "\t\t\"year\": \"2021\"\n",
      "\t},\n",
      "\t\"BMW\": {\n",
      "\t\t\"price\": 15000000,\n",
      "\t\t\"year\": \"2019\"\n",
      "\t}\n",
      "}\n"
     ]
    }
   ],
   "source": [
    "with open('./test.json', 'r', encoding='utf-8') as f:\n",
    "    jdata = json.load(f)\n",
    "\n",
    "print(json.dumps(jdata, indent = '\\t'))"
   ]
  },
  {
   "cell_type": "code",
   "execution_count": 7,
   "metadata": {},
   "outputs": [
    {
     "data": {
      "text/plain": [
       "8000000"
      ]
     },
     "execution_count": 7,
     "metadata": {},
     "output_type": "execute_result"
    }
   ],
   "source": [
    "jdata['genesis']['price']"
   ]
  },
  {
   "cell_type": "code",
   "execution_count": 8,
   "metadata": {},
   "outputs": [
    {
     "data": {
      "text/plain": [
       "{'ionic': {'price': 2000000, 'year': '2022'},\n",
       " 'genesis': {'price': 95000000, 'year': '2021'},\n",
       " 'BMW': {'price': 15000000, 'year': '2019'}}"
      ]
     },
     "execution_count": 8,
     "metadata": {},
     "output_type": "execute_result"
    }
   ],
   "source": [
    "jdata['genesis']['price'] = 95000000\n",
    "jdata"
   ]
  },
  {
   "cell_type": "code",
   "execution_count": 10,
   "metadata": {},
   "outputs": [],
   "source": [
    "# 한글 인코딩 (ensure_ascii = False)\n",
    "with open('./test_mod.json', 'w', encoding = 'utf-8') as file:\n",
    "    json.dump(jdata, file, indent = '\\t', ensure_ascii = False)"
   ]
  },
  {
   "cell_type": "code",
   "execution_count": 11,
   "metadata": {},
   "outputs": [
    {
     "name": "stdout",
     "output_type": "stream",
     "text": [
      "{\n",
      "\t\"audi\": {\n",
      "\t\t\"price\": 3000000,\n",
      "\t\t\"year\": 2020\n",
      "\t},\n",
      "\t\"porsche\": {\n",
      "\t\t\"price\": 15000000,\n",
      "\t\t\"year\": 2015\n",
      "\t}\n",
      "}\n"
     ]
    }
   ],
   "source": [
    "import json\n",
    "\n",
    "supercars = dict()\n",
    "\n",
    "audi = dict()\n",
    "audi['price'] = 3000000\n",
    "audi['year'] = 2020\n",
    "\n",
    "porsche = dict()\n",
    "porsche['price'] = 15000000\n",
    "porsche['year'] = 2015\n",
    "\n",
    "supercars['audi'] = audi\n",
    "supercars['porsche'] = porsche\n",
    "\n",
    "with open('./supercar.json', 'w', encoding = 'utf-8') as file:\n",
    "    json.dump(supercars, file, indent = '\\t', ensure_ascii = True)\n",
    "\n",
    "with open('./supercar.json', 'r', encoding = 'utf-8') as file: \n",
    "    json_data = json.load(file)\n",
    "\n",
    "print(json.dumps(json_data, indent = '\\t'))"
   ]
  }
 ],
 "metadata": {
  "kernelspec": {
   "display_name": "Python 3",
   "language": "python",
   "name": "python3"
  },
  "language_info": {
   "codemirror_mode": {
    "name": "ipython",
    "version": 3
   },
   "file_extension": ".py",
   "mimetype": "text/x-python",
   "name": "python",
   "nbconvert_exporter": "python",
   "pygments_lexer": "ipython3",
   "version": "3.11.1"
  },
  "orig_nbformat": 4,
  "vscode": {
   "interpreter": {
    "hash": "a3d8f53f1429d27b792a3789224562ddd32c1395c9a9cfbb17b3c19c3b9a493d"
   }
  }
 },
 "nbformat": 4,
 "nbformat_minor": 2
}
