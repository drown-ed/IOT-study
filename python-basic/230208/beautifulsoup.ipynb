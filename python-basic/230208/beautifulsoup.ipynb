{
 "cells": [
  {
   "attachments": {},
   "cell_type": "markdown",
   "metadata": {},
   "source": [
    "### Beautiful Soup v.4\n",
    "\n",
    "웹크롤링 라이브러리"
   ]
  },
  {
   "cell_type": "code",
   "execution_count": 1,
   "metadata": {},
   "outputs": [
    {
     "name": "stdout",
     "output_type": "stream",
     "text": [
      "Collecting beautifulsoup4\n",
      "  Downloading beautifulsoup4-4.11.2-py3-none-any.whl (129 kB)\n",
      "     ---------------------------------------- 0.0/129.4 kB ? eta -:--:--\n",
      "     -------------------------------------- 129.4/129.4 kB 7.4 MB/s eta 0:00:00\n",
      "Collecting soupsieve>1.2\n",
      "  Downloading soupsieve-2.3.2.post1-py3-none-any.whl (37 kB)\n",
      "Installing collected packages: soupsieve, beautifulsoup4\n",
      "Successfully installed beautifulsoup4-4.11.2 soupsieve-2.3.2.post1\n"
     ]
    }
   ],
   "source": [
    "!pip install beautifulsoup4"
   ]
  },
  {
   "cell_type": "code",
   "execution_count": 10,
   "metadata": {},
   "outputs": [
    {
     "name": "stdout",
     "output_type": "stream",
     "text": [
      "<a class=\"_nclicks:kin.txt _searchListTitleAnchor\" href=\"https://kin.naver.com/qna/detail.naver?d1id=11&amp;dirId=1129&amp;docId=423747412&amp;qb=7KCc7J6E7IqkIOybuSDrp53sm5Dqsr0=&amp;enc=utf8§ion=kin&amp;rank=1&amp;search_sort=0&amp;spq=0\" target=\"_blank\"><b>제임스웹</b> 우주<b>망원경</b> 질문이요</a>\n",
      "제임스웹 우주망원경 질문이요\n"
     ]
    }
   ],
   "source": [
    "import requests\n",
    "from bs4 import BeautifulSoup\n",
    "\n",
    "url = 'https://kin.naver.com/search/list.naver?query=%EC%A0%9C%EC%9E%84%EC%8A%A4+%EC%9B%B9+%EB%A7%9D%EC%9B%90%EA%B2%BD'\n",
    "response = requests.get(url)\n",
    "\n",
    "if response.status_code == 200:\n",
    "    html = response.text\n",
    "    soup = BeautifulSoup(html, 'html.parser')       # html로 보기 좋게 'html.parser'\n",
    "    \n",
    "    title = soup.select_one('#s_content > div.section > ul > li:nth-child(1) > dl > dt > a')\n",
    "    print(title)\n",
    "    print(title.get_text())\n",
    "else:\n",
    "    print(f'Error : {response.status.code}')"
   ]
  },
  {
   "cell_type": "code",
   "execution_count": 16,
   "metadata": {},
   "outputs": [
    {
     "name": "stdout",
     "output_type": "stream",
     "text": [
      "제임스웹 우주망원경 질문이요\n",
      "최고고도 부탁드립니다. 제임스웹 망원경이\n",
      "제임스 웹 망원경 우주사진 원본 어디서... \n",
      "제임스 웹 망원경 촬영 원리\n",
      "제임스 웹 망원경\n",
      "제임스 웹 우주망원경이 찍은 첫 사진은... \n",
      "제임스 웹 망원경의 종류 알려주세요\n",
      "제임스 웹 우주망원경\n",
      "제임스웹 망원경\n",
      "제임스 웹 우주 망원경 제작 기간이\n"
     ]
    }
   ],
   "source": [
    "import requests\n",
    "from bs4 import BeautifulSoup\n",
    "\n",
    "url = 'https://kin.naver.com/search/list.naver?query=%EC%A0%9C%EC%9E%84%EC%8A%A4+%EC%9B%B9+%EB%A7%9D%EC%9B%90%EA%B2%BD'\n",
    "response = requests.get(url)\n",
    "\n",
    "if response.status_code == 200:\n",
    "    html = response.text\n",
    "    soup = BeautifulSoup(html, 'html.parser')       # html로 보기 좋게 'html.parser'\n",
    "    ul = soup.select_one('ul.basic1')\n",
    "    titles = ul.select('li > dl > dt > a')\n",
    "    \n",
    "    for title in titles:\n",
    "        print(title.get_text())\n",
    "else:\n",
    "    print(f'Error : {response.status.code}')"
   ]
  }
 ],
 "metadata": {
  "kernelspec": {
   "display_name": "Python 3",
   "language": "python",
   "name": "python3"
  },
  "language_info": {
   "codemirror_mode": {
    "name": "ipython",
    "version": 3
   },
   "file_extension": ".py",
   "mimetype": "text/x-python",
   "name": "python",
   "nbconvert_exporter": "python",
   "pygments_lexer": "ipython3",
   "version": "3.11.1"
  },
  "orig_nbformat": 4,
  "vscode": {
   "interpreter": {
    "hash": "a3d8f53f1429d27b792a3789224562ddd32c1395c9a9cfbb17b3c19c3b9a493d"
   }
  }
 },
 "nbformat": 4,
 "nbformat_minor": 2
}
