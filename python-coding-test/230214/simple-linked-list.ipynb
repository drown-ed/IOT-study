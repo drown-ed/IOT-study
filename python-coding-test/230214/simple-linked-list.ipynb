{
 "cells": [
  {
   "attachments": {},
   "cell_type": "markdown",
   "metadata": {},
   "source": [
    "# 단순연결리스트\n",
    "\n",
    "## 노드 생성"
   ]
  },
  {
   "cell_type": "code",
   "execution_count": 3,
   "metadata": {},
   "outputs": [],
   "source": [
    "class Node:\n",
    "    def __init__(self) -> None:\n",
    "        self.data = None\n",
    "        self.link = None\n",
    "\n",
    "    def __str__(self) -> str:\n",
    "        return self.data"
   ]
  },
  {
   "cell_type": "code",
   "execution_count": 6,
   "metadata": {},
   "outputs": [
    {
     "name": "stdout",
     "output_type": "stream",
     "text": [
      "다현\n"
     ]
    }
   ],
   "source": [
    "# 첫 번째 노드 생성\n",
    "\n",
    "node1 = Node()\n",
    "node1.data = '다현'\n",
    "\n",
    "print(node1)"
   ]
  },
  {
   "cell_type": "code",
   "execution_count": 9,
   "metadata": {},
   "outputs": [
    {
     "name": "stdout",
     "output_type": "stream",
     "text": [
      "정연\n"
     ]
    }
   ],
   "source": [
    "# 두 번째 노드 생성\n",
    "\n",
    "node2 = Node()\n",
    "node2.data = '정연'\n",
    "node1.link = node2 \n",
    "\n",
    "print(node2)"
   ]
  },
  {
   "cell_type": "code",
   "execution_count": 10,
   "metadata": {},
   "outputs": [],
   "source": [
    "node3 = Node()\n",
    "node3.data = '쯔위'\n",
    "node2.link = node3 \n",
    "\n",
    "node4 = Node()\n",
    "node4.data = '사나'\n",
    "node3.link = node4 \n",
    "\n",
    "node5 = Node()\n",
    "node5.data = '지효'\n",
    "node4.link = node5"
   ]
  },
  {
   "cell_type": "code",
   "execution_count": 18,
   "metadata": {},
   "outputs": [
    {
     "name": "stdout",
     "output_type": "stream",
     "text": [
      "다현 -> 정연 -> 쯔위 -> 사나 -> 지효\n"
     ]
    }
   ],
   "source": [
    "print(node1.data, end = ' -> ')\n",
    "print(node1.link.data, end = ' -> ')\n",
    "print(node1.link.link.data, end = ' -> ')\n",
    "print(node1.link.link.link.data, end = ' -> ')\n",
    "print(node1.link.link.link.link.data)"
   ]
  },
  {
   "cell_type": "code",
   "execution_count": 27,
   "metadata": {},
   "outputs": [
    {
     "name": "stdout",
     "output_type": "stream",
     "text": [
      "다현 -> 정연 -> 미나 -> 쯔위 -> 사나 -> 지효\n"
     ]
    }
   ],
   "source": [
    "# 연결리스트 로직 출력\n",
    "\n",
    "current = node1\n",
    "print(current.data, end = ' -> ')\n",
    "while current.link != None:\n",
    "    current = current.link\n",
    "    if current.link == None:\n",
    "        print(current.data)\n",
    "    else:\n",
    "        print(current.data, end = ' -> ')"
   ]
  },
  {
   "cell_type": "code",
   "execution_count": 24,
   "metadata": {},
   "outputs": [],
   "source": [
    "# 연결리스트 새 노드 삽입\n",
    "\n",
    "newNode = Node()\n",
    "newNode.data = '미나'\n",
    "newNode.link = node2.link\n",
    "node2.link = newNode"
   ]
  },
  {
   "cell_type": "code",
   "execution_count": 29,
   "metadata": {},
   "outputs": [],
   "source": [
    "# 쯔위 노드 삭제\n",
    "\n",
    "newNode.Link = node3.link # node4 (사나)\n",
    "del(newNode)"
   ]
  }
 ],
 "metadata": {
  "kernelspec": {
   "display_name": "Python 3",
   "language": "python",
   "name": "python3"
  },
  "language_info": {
   "codemirror_mode": {
    "name": "ipython",
    "version": 3
   },
   "file_extension": ".py",
   "mimetype": "text/x-python",
   "name": "python",
   "nbconvert_exporter": "python",
   "pygments_lexer": "ipython3",
   "version": "3.11.1"
  },
  "orig_nbformat": 4,
  "vscode": {
   "interpreter": {
    "hash": "a3d8f53f1429d27b792a3789224562ddd32c1395c9a9cfbb17b3c19c3b9a493d"
   }
  }
 },
 "nbformat": 4,
 "nbformat_minor": 2
}
