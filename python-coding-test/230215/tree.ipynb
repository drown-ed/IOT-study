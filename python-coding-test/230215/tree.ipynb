{
 "cells": [
  {
   "attachments": {},
   "cell_type": "markdown",
   "metadata": {},
   "source": [
    "# Tree"
   ]
  },
  {
   "cell_type": "code",
   "execution_count": 2,
   "metadata": {},
   "outputs": [],
   "source": [
    "class TreeNode:\n",
    "    def __init__(self) -> None: \n",
    "        self.left = None \n",
    "        self.data = None \n",
    "        self.right = None "
   ]
  },
  {
   "cell_type": "code",
   "execution_count": 3,
   "metadata": {},
   "outputs": [],
   "source": [
    "# Tree\n",
    "\n",
    "rootNode = TreeNode()\n",
    "rootNode.data = 'quigon'\n",
    "\n",
    "node2 = TreeNode()\n",
    "node2.data = 'obiwan'\n",
    "rootNode.left = node2 \n",
    "\n",
    "node3 = TreeNode()\n",
    "node3.data = 'anakin'\n",
    "rootNode.right = node3\n",
    "\n",
    "node4 = TreeNode()\n",
    "node4.data = 'padme'\n",
    "node2.left = node4 \n",
    "\n",
    "node5 = TreeNode()\n",
    "node5.data = 'luke'\n",
    "node2.right = node5 \n",
    "\n",
    "node6 = TreeNode()\n",
    "node6.data = 'leia'\n",
    "node3.left = node6 \n",
    "\n",
    "node7 = TreeNode()\n",
    "node7.data = 'han'\n",
    "node3.right = node7 "
   ]
  },
  {
   "cell_type": "code",
   "execution_count": 16,
   "metadata": {},
   "outputs": [
    {
     "name": "stdout",
     "output_type": "stream",
     "text": [
      "quigon\n",
      "   ↓   ↘\n",
      "obiwan anakin\n",
      "   ↓  ↘      ↓ ↘\n",
      "padme luke leia han\n"
     ]
    }
   ],
   "source": [
    "print(rootNode.data)\n",
    "print('   ↓   ↘')\n",
    "print(rootNode.left.data, rootNode.right.data)\n",
    "print('   ↓  ↘      ↓ ↘')\n",
    "print(rootNode.left.left.data, rootNode.left.right.data, rootNode.right.left.data, rootNode.right.right.data)\n"
   ]
  },
  {
   "cell_type": "code",
   "execution_count": 17,
   "metadata": {},
   "outputs": [
    {
     "name": "stdout",
     "output_type": "stream",
     "text": [
      "quigon -> obiwan -> padme -> luke -> anakin -> leia -> han -> "
     ]
    }
   ],
   "source": [
    "# tree traversal\n",
    "\n",
    "def preorder(node):\n",
    "    if node == None : return \n",
    "\n",
    "    print(node.data, end = ' -> ')\n",
    "    preorder(node.left)\n",
    "    preorder(node.right)\n",
    "\n",
    "preorder(rootNode)"
   ]
  },
  {
   "cell_type": "code",
   "execution_count": 22,
   "metadata": {},
   "outputs": [
    {
     "name": "stdout",
     "output_type": "stream",
     "text": [
      "padme -> obiwan -> luke -> quigon -> leia -> anakin -> han -> "
     ]
    }
   ],
   "source": [
    "# tree traversal\n",
    "\n",
    "def inorder(node):\n",
    "    if node == None : return \n",
    "\n",
    "    inorder(node.left)\n",
    "    print(node.data, end = ' -> ')\n",
    "    inorder(node.right)\n",
    "\n",
    "inorder(rootNode)"
   ]
  },
  {
   "cell_type": "code",
   "execution_count": 23,
   "metadata": {},
   "outputs": [
    {
     "name": "stdout",
     "output_type": "stream",
     "text": [
      "padme -> luke -> obiwan -> leia -> han -> anakin -> quigon -> "
     ]
    }
   ],
   "source": [
    "# tree traversal\n",
    "\n",
    "def postorder(node):\n",
    "    if node == None : return \n",
    "\n",
    "    postorder(node.left)\n",
    "    postorder(node.right)\n",
    "    print(node.data, end = ' -> ')\n",
    "    \n",
    "\n",
    "postorder(rootNode)"
   ]
  }
 ],
 "metadata": {
  "kernelspec": {
   "display_name": "Python 3",
   "language": "python",
   "name": "python3"
  },
  "language_info": {
   "codemirror_mode": {
    "name": "ipython",
    "version": 3
   },
   "file_extension": ".py",
   "mimetype": "text/x-python",
   "name": "python",
   "nbconvert_exporter": "python",
   "pygments_lexer": "ipython3",
   "version": "3.11.1"
  },
  "orig_nbformat": 4,
  "vscode": {
   "interpreter": {
    "hash": "a3d8f53f1429d27b792a3789224562ddd32c1395c9a9cfbb17b3c19c3b9a493d"
   }
  }
 },
 "nbformat": 4,
 "nbformat_minor": 2
}
