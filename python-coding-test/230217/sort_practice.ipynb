{
 "cells": [
  {
   "cell_type": "code",
   "execution_count": 1,
   "metadata": {},
   "outputs": [
    {
     "ename": "",
     "evalue": "",
     "output_type": "error",
     "traceback": [
      "\u001b[1;31mCanceled future for execute_request message before replies were done"
     ]
    },
    {
     "ename": "",
     "evalue": "",
     "output_type": "error",
     "traceback": [
      "\u001b[1;31m현재 셀 또는 이전 셀에서 코드를 실행하는 동안 Kernel이 충돌했습니다. 셀의 코드를 검토하여 오류의 가능한 원인을 식별하세요. 자세한 내용을 보려면 <a href='https://aka.ms/vscodeJupyterKernelCrash'> 여기 </a> 를 클릭하세요. 자세한 내용은 Jupyter <a href='command:jupyter.viewOutput'>로그</a>를 참조하세요."
     ]
    }
   ],
   "source": [
    "from tkinter import *\n",
    "\n",
    "window = Tk()\n",
    "window.geometry(\"600x600\")\n",
    "\n",
    "photo = PhotoImage(file = './image.png')\n",
    "\n",
    "photoAry = []\n",
    "h = photo.height()\n",
    "w = photo.width()\n",
    "\n",
    "for i in range(h):\n",
    "    for j in range(w):\n",
    "        r, g, b = photo.get(i, j)\n",
    "        value = (r + g + b) // 3\n",
    "        photoAry.append(value)\n",
    "\n",
    "for i in range(len(photoAry)):\n",
    "    if photoAry[i] <= 127:\n",
    "        photoAry[i] = 0\n",
    "    else:\n",
    "        photoAry[i] = 255\n",
    "\n",
    "pos = 0\n",
    "for i in range(len(photoAry)):\n",
    "    if photoAry[i] <= 127:\n",
    "        r = g = b = photoAry[pos]\n",
    "        pos += 1 \n",
    "        photo.put('#%02x%02x%02x' % (r, g, b), (i, j))\n",
    "\n",
    "\n",
    "paper = Label(window, image=photo)\n",
    "paper.pack(expand=1, anchor= CENTER)\n",
    "\n",
    "window.mainloop()"
   ]
  }
 ],
 "metadata": {
  "kernelspec": {
   "display_name": "Python 3",
   "language": "python",
   "name": "python3"
  },
  "language_info": {
   "codemirror_mode": {
    "name": "ipython",
    "version": 3
   },
   "file_extension": ".py",
   "mimetype": "text/x-python",
   "name": "python",
   "nbconvert_exporter": "python",
   "pygments_lexer": "ipython3",
   "version": "3.11.1"
  },
  "orig_nbformat": 4,
  "vscode": {
   "interpreter": {
    "hash": "a3d8f53f1429d27b792a3789224562ddd32c1395c9a9cfbb17b3c19c3b9a493d"
   }
  }
 },
 "nbformat": 4,
 "nbformat_minor": 2
}
