{
 "cells": [
  {
   "cell_type": "code",
   "execution_count": 1,
   "metadata": {},
   "outputs": [],
   "source": [
    "maxWeight = 7\n",
    "rowCount = 4\n",
    "weight = [0, 6, 4, 3, 5]\n",
    "money = [0, 13, 8, 6, 12]\n",
    "\n",
    "def knapsack():\n",
    "    print('memorization array')\n",
    "    array = [[0 for _ in range(max)] for _ in range(rowCount+1)]\n",
    "\n",
    "    for row in range(1, rowCount+1):\n",
    "        print(row, '개 --> ', end= ' ')\n",
    "        for col in range(1, maxWeight + 1):\n",
    "            if weight[row] > col:\n",
    "                array[row][col] = array[row-1][col]\n",
    "            else :\n",
    "                value1 = money[row] + array[row-1][col-weight[row]]\n",
    "                value2 = array[row-1][col]\n",
    "                array[row][col] = max(value1, value2)\n",
    "            print(f'{array[row][col]}', end = ' ')\n",
    "        print()\n",
    "    \n",
    "    return array[rowCount][maxWeight]"
   ]
  },
  {
   "cell_type": "code",
   "execution_count": 2,
   "metadata": {},
   "outputs": [
    {
     "name": "stdout",
     "output_type": "stream",
     "text": [
      "1 2 3 5 8 13 21 34 55 89 144 233 377 610 987 1597 2584 4181 6765 10946 17711 28657 46368 75025 121393 196418 317811 514229 832040 1346269 2178309 3524578 5702887 9227465 14930352 24157817 "
     ]
    }
   ],
   "source": [
    "d = [0] * 100 \n",
    "\n",
    "def fibonacci(n):\n",
    "    if n == 0 or n == 1 or n == 2: return 1\n",
    "\n",
    "    if d[n] != 0: return d[n]\n",
    "\n",
    "    d[n] = fibonacci(n-1) + fibonacci(n-2)\n",
    "    return d[n]\n",
    "\n",
    "for i in range(2, 38):\n",
    "    print(fibonacci(i), end = ' ')"
   ]
  }
 ],
 "metadata": {
  "kernelspec": {
   "display_name": "Python 3",
   "language": "python",
   "name": "python3"
  },
  "language_info": {
   "codemirror_mode": {
    "name": "ipython",
    "version": 3
   },
   "file_extension": ".py",
   "mimetype": "text/x-python",
   "name": "python",
   "nbconvert_exporter": "python",
   "pygments_lexer": "ipython3",
   "version": "3.11.1"
  },
  "orig_nbformat": 4,
  "vscode": {
   "interpreter": {
    "hash": "a3d8f53f1429d27b792a3789224562ddd32c1395c9a9cfbb17b3c19c3b9a493d"
   }
  }
 },
 "nbformat": 4,
 "nbformat_minor": 2
}
