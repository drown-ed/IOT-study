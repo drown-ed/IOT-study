{
 "cells": [
  {
   "attachments": {},
   "cell_type": "markdown",
   "metadata": {},
   "source": [
    "# 코딩테스트 실수 네 가지"
   ]
  },
  {
   "cell_type": "code",
   "execution_count": 3,
   "metadata": {},
   "outputs": [
    {
     "name": "stdout",
     "output_type": "stream",
     "text": [
      "50 = 176.0\n"
     ]
    },
    {
     "ename": "ValueError",
     "evalue": "not enough values to unpack (expected 2, got 0)",
     "output_type": "error",
     "traceback": [
      "\u001b[1;31m---------------------------------------------------------------------------\u001b[0m",
      "\u001b[1;31mValueError\u001b[0m                                Traceback (most recent call last)",
      "Cell \u001b[1;32mIn[3], line 14\u001b[0m\n\u001b[0;32m     11\u001b[0m     A[i] \u001b[39m=\u001b[39m random\u001b[39m.\u001b[39mrandrange(\u001b[39m1\u001b[39m, \u001b[39m101\u001b[39m)\n\u001b[0;32m     13\u001b[0m \u001b[39mfor\u001b[39;00m t \u001b[39min\u001b[39;00m \u001b[39mrange\u001b[39m(\u001b[39m1\u001b[39m, testcase \u001b[39m+\u001b[39m \u001b[39m1\u001b[39m):\n\u001b[1;32m---> 14\u001b[0m     start, end \u001b[39m=\u001b[39m \u001b[39mmap\u001b[39m(\u001b[39mint\u001b[39m, \u001b[39minput\u001b[39m()\u001b[39m.\u001b[39msplit())\n\u001b[0;32m     16\u001b[0m     \u001b[39mfor\u001b[39;00m i \u001b[39min\u001b[39;00m \u001b[39mrange\u001b[39m(start, end \u001b[39m+\u001b[39m \u001b[39m1\u001b[39m):\n\u001b[0;32m     17\u001b[0m         answer \u001b[39m=\u001b[39m answer \u001b[39m+\u001b[39m A[i]\n",
      "\u001b[1;31mValueError\u001b[0m: not enough values to unpack (expected 2, got 0)"
     ]
    }
   ],
   "source": [
    "# 결함 있는 코드\n",
    "# 배열의 주어진 범위 합을 2로 나눈 몫\n",
    "\n",
    "import random\n",
    "\n",
    "testcase = int(input())\n",
    "max_num = 100001\n",
    "answer = 0 \n",
    "A = [0] * max_num\n",
    "\n",
    "for i in range(0, max_num):\n",
    "    A[i] = random.randrange(1, 101)\n",
    "\n",
    "for t in range(1, testcase + 1):\n",
    "    start, end = map(int, input().split())\n",
    "\n",
    "    for i in range(start, end + 1):\n",
    "        answer = answer + A[i]\n",
    "\n",
    "    print(f'{testcase} = {answer/2}')"
   ]
  }
 ],
 "metadata": {
  "kernelspec": {
   "display_name": "Python 3",
   "language": "python",
   "name": "python3"
  },
  "language_info": {
   "codemirror_mode": {
    "name": "ipython",
    "version": 3
   },
   "file_extension": ".py",
   "mimetype": "text/x-python",
   "name": "python",
   "nbconvert_exporter": "python",
   "pygments_lexer": "ipython3",
   "version": "3.11.1"
  },
  "orig_nbformat": 4,
  "vscode": {
   "interpreter": {
    "hash": "a3d8f53f1429d27b792a3789224562ddd32c1395c9a9cfbb17b3c19c3b9a493d"
   }
  }
 },
 "nbformat": 4,
 "nbformat_minor": 2
}
