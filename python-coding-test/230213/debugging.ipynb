{
 "cells": [
  {
   "attachments": {},
   "cell_type": "markdown",
   "metadata": {},
   "source": [
    "# 코딩테스트 실수 네 가지\n",
    "\n",
    "### exception 1\n",
    "- answer 초기화\n",
    "\n",
    "### exception 2\n",
    "- 배열 범위\n",
    "\n",
    "### exception 3\n",
    "- 변수 잘못 사용, 결과 다르게 나옴\n",
    "\n",
    "### exception 4\n",
    "- 형 변환 실수"
   ]
  },
  {
   "cell_type": "code",
   "execution_count": null,
   "metadata": {},
   "outputs": [],
   "source": [
    "# 결함 있는 코드\n",
    "# 배열의 주어진 범위 합을 2로 나눈 몫\n",
    "\n",
    "import random\n",
    "\n",
    "testcase = int(input())\n",
    "max_num = 100001\n",
    "answer = 0 \n",
    "A = [0] * max_num\n",
    "\n",
    "for i in range(0, max_num):\n",
    "    A[i] = random.randrange(1, 101)\n",
    "\n",
    "for t in range(1, testcase + 1):\n",
    "    answer = 0\n",
    "    start, end = map(int, input().split())\n",
    "\n",
    "    for i in range(start, end + 1):\n",
    "        answer = answer + A[i]\n",
    "\n",
    "    print(f'{testcase} = {answer/2}')"
   ]
  }
 ],
 "metadata": {
  "kernelspec": {
   "display_name": "Python 3",
   "language": "python",
   "name": "python3"
  },
  "language_info": {
   "codemirror_mode": {
    "name": "ipython",
    "version": 3
   },
   "file_extension": ".py",
   "mimetype": "text/x-python",
   "name": "python",
   "nbconvert_exporter": "python",
   "pygments_lexer": "ipython3",
   "version": "3.11.1"
  },
  "orig_nbformat": 4,
  "vscode": {
   "interpreter": {
    "hash": "a3d8f53f1429d27b792a3789224562ddd32c1395c9a9cfbb17b3c19c3b9a493d"
   }
  }
 },
 "nbformat": 4,
 "nbformat_minor": 2
}
