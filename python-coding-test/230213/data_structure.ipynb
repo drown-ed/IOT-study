{
 "cells": [
  {
   "cell_type": "code",
   "execution_count": null,
   "metadata": {},
   "outputs": [],
   "source": [
    "# baekjoon 11720\n",
    "\n",
    "num = input()\n",
    "nums = input()\n",
    "\n",
    "result = 0\n",
    "for i in range(0, len(nums)):\n",
    "    if nums[i] != ' ':\n",
    "        result += int(nums[i])\n",
    "\n",
    "print(result)"
   ]
  },
  {
   "cell_type": "code",
   "execution_count": 1,
   "metadata": {},
   "outputs": [
    {
     "name": "stdout",
     "output_type": "stream",
     "text": [
      "66.66666666666667\n"
     ]
    }
   ],
   "source": [
    "# baekjoon 1546\n",
    "\n",
    "num = int(input())\n",
    "test = list(map(int, input().split()))\n",
    "max_score = max(test)\n",
    "\n",
    "score = []\n",
    "for score in test :\n",
    "    score.append(score/max_score *100)  \n",
    "avg = sum(score)/num\n",
    "print(avg)"
   ]
  }
 ],
 "metadata": {
  "kernelspec": {
   "display_name": "Python 3",
   "language": "python",
   "name": "python3"
  },
  "language_info": {
   "codemirror_mode": {
    "name": "ipython",
    "version": 3
   },
   "file_extension": ".py",
   "mimetype": "text/x-python",
   "name": "python",
   "nbconvert_exporter": "python",
   "pygments_lexer": "ipython3",
   "version": "3.11.1"
  },
  "orig_nbformat": 4,
  "vscode": {
   "interpreter": {
    "hash": "a3d8f53f1429d27b792a3789224562ddd32c1395c9a9cfbb17b3c19c3b9a493d"
   }
  }
 },
 "nbformat": 4,
 "nbformat_minor": 2
}
