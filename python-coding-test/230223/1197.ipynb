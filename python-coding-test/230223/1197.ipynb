{
 "cells": [
  {
   "cell_type": "code",
   "execution_count": 3,
   "metadata": {},
   "outputs": [
    {
     "name": "stdout",
     "output_type": "stream",
     "text": [
      "[0, 1, 2, 3]\n"
     ]
    },
    {
     "ename": "TypeError",
     "evalue": "'PriorityQueue' object is not subscriptable",
     "output_type": "error",
     "traceback": [
      "\u001b[1;31m---------------------------------------------------------------------------\u001b[0m",
      "\u001b[1;31mTypeError\u001b[0m                                 Traceback (most recent call last)",
      "Cell \u001b[1;32mIn[3], line 19\u001b[0m\n\u001b[0;32m     16\u001b[0m     a, b, c \u001b[39m=\u001b[39m \u001b[39mmap\u001b[39m(\u001b[39mint\u001b[39m, \u001b[39minput\u001b[39m()\u001b[39m.\u001b[39msplit())\n\u001b[0;32m     17\u001b[0m     pq\u001b[39m.\u001b[39mput((c, a, b))\n\u001b[1;32m---> 19\u001b[0m \u001b[39mprint\u001b[39m(pq[\u001b[39m0\u001b[39;49m])\n",
      "\u001b[1;31mTypeError\u001b[0m: 'PriorityQueue' object is not subscriptable"
     ]
    }
   ],
   "source": [
    "# 1197 최소신장트리 구하기\n",
    "\n",
    "import sys \n",
    "from queue import PriorityQueue\n",
    "\n",
    "n, m = 3, 3 # map(int, input().split())\n",
    "pq = PriorityQueue()\n",
    "parent = [0] * (n + 1)\n",
    "\n",
    "for i in range(n + 1):\n",
    "    parent[i] = i\n",
    "\n",
    "print(parent)\n",
    "\n",
    "for i in range(m):\n",
    "    a, b, c = map(int, input().split())\n",
    "    pq.put((c, a, b))\n",
    "\n",
    "def find(a):\n",
    "    if a == parent[a]:\n",
    "        return a \n",
    "    else:\n",
    "        parent[a] = find(parent[a])\n",
    "        return parent[a]\n",
    "\n",
    "print(pq.get())"
   ]
  }
 ],
 "metadata": {
  "kernelspec": {
   "display_name": "Python 3",
   "language": "python",
   "name": "python3"
  },
  "language_info": {
   "codemirror_mode": {
    "name": "ipython",
    "version": 3
   },
   "file_extension": ".py",
   "mimetype": "text/x-python",
   "name": "python",
   "nbconvert_exporter": "python",
   "pygments_lexer": "ipython3",
   "version": "3.11.1"
  },
  "orig_nbformat": 4,
  "vscode": {
   "interpreter": {
    "hash": "a3d8f53f1429d27b792a3789224562ddd32c1395c9a9cfbb17b3c19c3b9a493d"
   }
  }
 },
 "nbformat": 4,
 "nbformat_minor": 2
}
