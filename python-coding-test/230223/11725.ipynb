{
 "cells": [
  {
   "cell_type": "code",
   "execution_count": 4,
   "metadata": {},
   "outputs": [
    {
     "name": "stdout",
     "output_type": "stream",
     "text": [
      "4\n",
      "6\n",
      "1\n",
      "3\n",
      "1\n",
      "4\n"
     ]
    }
   ],
   "source": [
    "# 11725 트리의 부모 찾기 (DFS)\n",
    "import sys\n",
    "sys.setrecursionlimit(10 ** 6)\n",
    "input = sys.stdin.readline\n",
    "\n",
    "n = int(input())\n",
    "visited = [False] * (n+1)\n",
    "tree = [[] for _ in range(n+1)] \n",
    "answer = [0] * (n+1)\n",
    "\n",
    "for i in range(1, n):\n",
    "    a, b = map(int, input().split())\n",
    "    tree[a].append(b)\n",
    "    tree[b].append(a)\n",
    "\n",
    "def DFS(num):\n",
    "    visited[num] = True \n",
    "\n",
    "    for i in tree[num]:\n",
    "        if not visited[i]:\n",
    "            answer[i] = num \n",
    "            DFS(i)\n",
    "\n",
    "DFS(1)\n",
    "\n",
    "for i in range(2, n+1):\n",
    "    print(answer[i])"
   ]
  }
 ],
 "metadata": {
  "kernelspec": {
   "display_name": "Python 3",
   "language": "python",
   "name": "python3"
  },
  "language_info": {
   "codemirror_mode": {
    "name": "ipython",
    "version": 3
   },
   "file_extension": ".py",
   "mimetype": "text/x-python",
   "name": "python",
   "nbconvert_exporter": "python",
   "pygments_lexer": "ipython3",
   "version": "3.11.1"
  },
  "orig_nbformat": 4,
  "vscode": {
   "interpreter": {
    "hash": "a3d8f53f1429d27b792a3789224562ddd32c1395c9a9cfbb17b3c19c3b9a493d"
   }
  }
 },
 "nbformat": 4,
 "nbformat_minor": 2
}
