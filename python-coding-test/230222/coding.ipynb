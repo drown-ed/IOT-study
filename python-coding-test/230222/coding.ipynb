{
 "cells": [
  {
   "cell_type": "code",
   "execution_count": 9,
   "metadata": {},
   "outputs": [
    {
     "name": "stdout",
     "output_type": "stream",
     "text": [
      "4\n"
     ]
    }
   ],
   "source": [
    "# 2018 two-pointer\n",
    "\n",
    "num = int(input())\n",
    "\n",
    "start, end, cnt, sum = 1, 1, 1, 1\n",
    "\n",
    "while end != num:\n",
    "    if sum == num:\n",
    "        cnt += 1\n",
    "        end += 1 \n",
    "        sum += end\n",
    "    elif sum > num:\n",
    "        sum -= start \n",
    "        start += 1\n",
    "    else:\n",
    "        end += 1\n",
    "        sum += end \n",
    "\n",
    "print(cnt)"
   ]
  }
 ],
 "metadata": {
  "kernelspec": {
   "display_name": "Python 3",
   "language": "python",
   "name": "python3"
  },
  "language_info": {
   "codemirror_mode": {
    "name": "ipython",
    "version": 3
   },
   "file_extension": ".py",
   "mimetype": "text/x-python",
   "name": "python",
   "nbconvert_exporter": "python",
   "pygments_lexer": "ipython3",
   "version": "3.11.1"
  },
  "orig_nbformat": 4,
  "vscode": {
   "interpreter": {
    "hash": "a3d8f53f1429d27b792a3789224562ddd32c1395c9a9cfbb17b3c19c3b9a493d"
   }
  }
 },
 "nbformat": 4,
 "nbformat_minor": 2
}
